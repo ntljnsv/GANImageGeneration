{
  "cells": [
    {
      "cell_type": "code",
      "execution_count": null,
      "metadata": {
        "id": "wXSQS5vEIMNJ"
      },
      "outputs": [],
      "source": [
        "import torch\n",
        "import numpy as np\n",
        "import torch.nn as nn\n",
        "import matplotlib.pyplot as plt\n",
        "from torch.optim import Adam\n",
        "from torchvision.datasets import MNIST\n",
        "from torch.utils.data import DataLoader\n",
        "from torchvision.transforms import Compose, ToTensor, Normalize\n",
        "\n",
        "import torch.nn.functional as F"
      ]
    },
    {
      "cell_type": "code",
      "execution_count": null,
      "metadata": {
        "id": "Vh1gOuXZqWhi"
      },
      "outputs": [],
      "source": [
        "device = torch.device(\"cuda\" if torch.cuda.is_available() else \"cpu\")"
      ]
    },
    {
      "cell_type": "markdown",
      "metadata": {
        "id": "CkIO1LxnHAJi"
      },
      "source": [
        "# Dataset loading"
      ]
    },
    {
      "cell_type": "code",
      "execution_count": null,
      "metadata": {
        "id": "Hs48_bPbJDwY"
      },
      "outputs": [],
      "source": [
        "transform_func = Compose([\n",
        "    ToTensor(),\n",
        "    Normalize([0.5], [0.5])\n",
        "])"
      ]
    },
    {
      "cell_type": "code",
      "execution_count": null,
      "metadata": {
        "id": "eoO-zNatJHPW",
        "colab": {
          "base_uri": "https://localhost:8080/"
        },
        "outputId": "fb4a4f17-01ac-4244-c9aa-de1e811ba623"
      },
      "outputs": [
        {
          "output_type": "stream",
          "name": "stderr",
          "text": [
            "100%|██████████| 9.91M/9.91M [00:00<00:00, 17.7MB/s]\n",
            "100%|██████████| 28.9k/28.9k [00:00<00:00, 479kB/s]\n",
            "100%|██████████| 1.65M/1.65M [00:00<00:00, 4.41MB/s]\n",
            "100%|██████████| 4.54k/4.54k [00:00<00:00, 5.83MB/s]\n"
          ]
        }
      ],
      "source": [
        "dataset = MNIST('data', train=True, download=True, transform=transform_func)"
      ]
    },
    {
      "cell_type": "code",
      "execution_count": null,
      "metadata": {
        "colab": {
          "base_uri": "https://localhost:8080/"
        },
        "id": "HN-sz_7tJK7-",
        "outputId": "3a6a0a98-4dde-4e9e-cb85-14c855cb0fea"
      },
      "outputs": [
        {
          "output_type": "execute_result",
          "data": {
            "text/plain": [
              "Dataset MNIST\n",
              "    Number of datapoints: 60000\n",
              "    Root location: data\n",
              "    Split: Train\n",
              "    StandardTransform\n",
              "Transform: Compose(\n",
              "               ToTensor()\n",
              "               Normalize(mean=[0.5], std=[0.5])\n",
              "           )"
            ]
          },
          "metadata": {},
          "execution_count": 5
        }
      ],
      "source": [
        "dataset"
      ]
    },
    {
      "cell_type": "code",
      "execution_count": null,
      "metadata": {
        "id": "jayE-XndJSxu"
      },
      "outputs": [],
      "source": [
        "train_loader = DataLoader(dataset, batch_size=128, shuffle=True)"
      ]
    },
    {
      "cell_type": "code",
      "execution_count": null,
      "metadata": {
        "id": "7B_Qak74HViw"
      },
      "outputs": [],
      "source": [
        "test_dataset = MNIST('data', train=False, download=True, transform=transform_func)"
      ]
    },
    {
      "cell_type": "code",
      "execution_count": null,
      "metadata": {
        "id": "25XjiLJlHcG_"
      },
      "outputs": [],
      "source": [
        "test_loader = DataLoader(test_dataset, batch_size=128, shuffle=False)"
      ]
    },
    {
      "cell_type": "code",
      "execution_count": null,
      "metadata": {
        "id": "kfdREa6xJeXW"
      },
      "outputs": [],
      "source": [
        "img, label = dataset[0]"
      ]
    },
    {
      "cell_type": "code",
      "execution_count": null,
      "metadata": {
        "id": "TIZ4toBPJpYe"
      },
      "outputs": [],
      "source": [
        "img_shape = tuple(img.shape)"
      ]
    },
    {
      "cell_type": "code",
      "source": [
        "class_num = 10"
      ],
      "metadata": {
        "id": "D3VCsMAC4Sxh"
      },
      "execution_count": null,
      "outputs": []
    },
    {
      "cell_type": "markdown",
      "metadata": {
        "id": "HS2f0kOpHCrj"
      },
      "source": [
        "# Utils"
      ]
    },
    {
      "cell_type": "markdown",
      "metadata": {
        "id": "2L_C4JPwH2L3"
      },
      "source": [
        "## Evaluation Classifier"
      ]
    },
    {
      "cell_type": "code",
      "execution_count": null,
      "metadata": {
        "id": "OrG8s0EjHDr9"
      },
      "outputs": [],
      "source": [
        "class Eval_Classifier(nn.Module):\n",
        "  def __init__(self, class_num=10):\n",
        "    super(Eval_Classifier, self).__init__()\n",
        "\n",
        "    self.class_num = class_num\n",
        "\n",
        "    self.conv1 = nn.Conv2d(1, 28, 3, 1)\n",
        "    self.conv2 = nn.Conv2d(28, 64, 3, 1)\n",
        "\n",
        "    self.pool = nn.MaxPool2d(2, 2)\n",
        "\n",
        "    self.dropout1 = nn.Dropout(0.3)\n",
        "    self.dropout2 = nn.Dropout(0.5)\n",
        "\n",
        "    self.fc1 = nn.Linear(9216, 128)\n",
        "    self.fc2 = nn.Linear(128, class_num)\n",
        "\n",
        "  def forward(self, x):\n",
        "    x = self.conv1(x)\n",
        "    x = F.relu(x)\n",
        "    x = self.conv2(x)\n",
        "    x = F.relu(x)\n",
        "    x = self.pool(x)\n",
        "    x = self.dropout1(x)\n",
        "\n",
        "    x = torch.flatten(x, 1)\n",
        "    x = self.fc1(x)\n",
        "    x = self.dropout2(x)\n",
        "    x = self.fc2(x)\n",
        "\n",
        "    out = F.log_softmax(x, dim=1)\n",
        "    return out"
      ]
    },
    {
      "cell_type": "code",
      "execution_count": null,
      "metadata": {
        "id": "xtNXUWdNHJbQ"
      },
      "outputs": [],
      "source": [
        "def classifier_train(model, data_loader, optimizer, epochs, device):\n",
        "  model.train()\n",
        "\n",
        "  for epoch in range(epochs):\n",
        "    for i, (img, label) in enumerate(data_loader):\n",
        "      img, label = img.to(device), label.to(device)\n",
        "\n",
        "      optimizer.zero_grad()\n",
        "\n",
        "      output = model(img)\n",
        "      loss = F.cross_entropy(output, label)\n",
        "      loss.backward()\n",
        "      optimizer.step()\n",
        "\n",
        "      pred = output.argmax(dim=1)\n",
        "\n",
        "      print(f'Epoch: {epoch+1} / {epochs} | Loss: {loss.item():.4f}')"
      ]
    },
    {
      "cell_type": "code",
      "execution_count": null,
      "metadata": {
        "id": "ywE_64Z7HPyp"
      },
      "outputs": [],
      "source": [
        "def classifier_test(model, data_loader, device):\n",
        "  model.eval()\n",
        "  total_loss = 0\n",
        "  correct = 0\n",
        "\n",
        "  with torch.no_grad():\n",
        "    for img, label in data_loader:\n",
        "      img, label = img.to(device), label.to(device)\n",
        "\n",
        "      out = model(img)\n",
        "      loss = F.cross_entropy(out, label)\n",
        "\n",
        "      total_loss += loss.item()\n",
        "      pred = out.argmax(dim=1)\n",
        "      correct += pred.eq(label).sum().item()\n",
        "\n",
        "  avg_loss = total_loss / len(data_loader)\n",
        "  accuracy = 100. * correct / len(data_loader.dataset)\n",
        "  print(f'Test Loss: {avg_loss:.4f}, Test Accuracy: {accuracy:.2f}%')"
      ]
    },
    {
      "cell_type": "code",
      "execution_count": null,
      "metadata": {
        "id": "C2Q9zra_HnAq"
      },
      "outputs": [],
      "source": [
        "classifier = Eval_Classifier().to(device)"
      ]
    },
    {
      "cell_type": "code",
      "execution_count": null,
      "metadata": {
        "id": "NmuH2uF3Hr9s"
      },
      "outputs": [],
      "source": [
        "classifier_optimizer = torch.optim.Adam(classifier.parameters(), lr=0.001)"
      ]
    },
    {
      "cell_type": "code",
      "execution_count": null,
      "metadata": {
        "id": "pBOO_xHZHeNa"
      },
      "outputs": [],
      "source": [
        "classifier_train(\n",
        "    model=classifier,\n",
        "    data_loader=train_loader,\n",
        "    optimizer=classifier_optimizer,\n",
        "    epochs=5,\n",
        "    device=device\n",
        ")"
      ]
    },
    {
      "cell_type": "code",
      "execution_count": null,
      "metadata": {
        "colab": {
          "base_uri": "https://localhost:8080/"
        },
        "id": "OoGAV7rux6zO",
        "outputId": "76f310d2-6e75-49d7-eaf3-88412d04ebdd"
      },
      "outputs": [
        {
          "output_type": "stream",
          "name": "stdout",
          "text": [
            "Test Loss: 0.0355, Test Accuracy: 98.85%\n"
          ]
        }
      ],
      "source": [
        "classifier_test(\n",
        "    model=classifier,\n",
        "    data_loader=test_loader,\n",
        "    device=device\n",
        ")"
      ]
    },
    {
      "cell_type": "markdown",
      "metadata": {
        "id": "dft2dfs3H6Le"
      },
      "source": [
        "## Train function"
      ]
    },
    {
      "cell_type": "code",
      "execution_count": null,
      "metadata": {
        "id": "Pbi_5rwdH7_W"
      },
      "outputs": [],
      "source": [
        "def train(generator, discriminator, data_loader,\n",
        "          optimizer_generator, optimizer_discriminator, criterion, device,\n",
        "          latent_dim=100, epochs=5):\n",
        "    for epoch in range(epochs):\n",
        "        for i, (imgs, labels) in enumerate(data_loader):\n",
        "            batch_size_curr = imgs.size(0)\n",
        "\n",
        "            valid = torch.ones(batch_size_curr, 1).to(device)\n",
        "            fake = torch.zeros(batch_size_curr, 1).to(device)\n",
        "\n",
        "            real_imgs = imgs.to(device)\n",
        "\n",
        "            optimizer_generator.zero_grad()\n",
        "\n",
        "            z = torch.randn(batch_size_curr, latent_dim).to(device)\n",
        "            gen_labels = torch.randint(0, 10, (batch_size_curr,), device=device)\n",
        "\n",
        "            gen_imgs = generator(z, gen_labels)\n",
        "\n",
        "            g_loss = criterion(discriminator(gen_imgs, gen_labels), valid)\n",
        "\n",
        "            g_loss.backward()\n",
        "            optimizer_generator.step()\n",
        "\n",
        "            optimizer_discriminator.zero_grad()\n",
        "\n",
        "            real_loss = criterion(discriminator(real_imgs, labels.to(device)), valid)\n",
        "            fake_loss = criterion(discriminator(gen_imgs.detach(), gen_labels), fake)\n",
        "            d_loss = 0.5 * (real_loss + fake_loss)\n",
        "            d_loss.backward()\n",
        "            optimizer_discriminator.step()\n",
        "\n",
        "            print(f\"Epoch {epoch + 1}/{epochs} | D Loss: {d_loss.item():.4f} | G Loss: {g_loss.item():.4f}\")\n",
        "\n",
        "        if (epoch + 1) % 5 == 0:\n",
        "            sample_images(generator, device=device)"
      ]
    },
    {
      "cell_type": "markdown",
      "metadata": {
        "id": "5-w6fpV_H-l3"
      },
      "source": [
        "## Digit visualization"
      ]
    },
    {
      "cell_type": "code",
      "execution_count": null,
      "metadata": {
        "id": "Ne_LsU4yIkiy"
      },
      "outputs": [],
      "source": [
        "def sample_images(generator, device):\n",
        "    generator.eval()\n",
        "    noise = torch.randn(1, 100).to(device)\n",
        "    label = torch.tensor([7], device=device) # primer 7\n",
        "    gen_img = generator(noise, label)\n",
        "    gen_img = gen_img.view(1, 1, 28, 28)\n",
        "    gen_img = gen_img * 0.5 + 0.5\n",
        "    plt.imshow(gen_img[0].detach().cpu().squeeze().numpy())\n",
        "    plt.show()"
      ]
    },
    {
      "cell_type": "code",
      "execution_count": null,
      "metadata": {
        "id": "-2f6Ya9nIDoi"
      },
      "outputs": [],
      "source": [
        "import matplotlib.pyplot as plt\n",
        "\n",
        "def visualize_digits(generator, device, latent_dim=100):\n",
        "    generator.eval()\n",
        "    num_classes = 10\n",
        "    noise = torch.randn(num_classes, latent_dim).to(device)\n",
        "    labels = torch.arange(0, num_classes).to(device)\n",
        "    with torch.no_grad():\n",
        "        gen_imgs = generator(noise, labels)\n",
        "    gen_imgs = gen_imgs * 0.5 + 0.5\n",
        "\n",
        "    fig, axes = plt.subplots(1, 10, figsize=(15, 2))\n",
        "    for i, ax in enumerate(axes):\n",
        "        ax.imshow(gen_imgs[i].cpu().squeeze(), cmap='gray')\n",
        "        ax.set_title(f\"Digit: {i}\")\n",
        "        ax.axis('off')\n",
        "    plt.tight_layout()\n",
        "    plt.show()"
      ]
    },
    {
      "cell_type": "markdown",
      "metadata": {
        "id": "xy99rljmIRGv"
      },
      "source": [
        "## Eval function"
      ]
    },
    {
      "cell_type": "code",
      "execution_count": null,
      "metadata": {
        "id": "kUgW_rDvIUXa"
      },
      "outputs": [],
      "source": [
        "def eval(generator, classifier, latent_dim, num_classes, num_images, device):\n",
        "  generator.eval()\n",
        "  classifier.eval()\n",
        "\n",
        "  correct = 0\n",
        "  total = num_classes*num_images\n",
        "\n",
        "  with torch.no_grad():\n",
        "    for digit in range(num_classes):\n",
        "       noise = torch.randn(num_images, latent_dim).to(device)\n",
        "       labels = torch.full((num_images,), digit, dtype=torch.long).to(device)\n",
        "\n",
        "       imgs = generator(noise, labels)\n",
        "\n",
        "       out = classifier(imgs)\n",
        "       pred = out.argmax(dim=1)\n",
        "\n",
        "       correct += (pred == labels).sum().item()\n",
        "\n",
        "    accuracy = correct / total\n",
        "    print(f\"Accuracy: {accuracy}\")"
      ]
    },
    {
      "cell_type": "markdown",
      "metadata": {
        "id": "0wHSnK1rWXa3"
      },
      "source": [
        "# CGAN\n",
        "\n",
        "\n"
      ]
    },
    {
      "cell_type": "code",
      "execution_count": null,
      "metadata": {
        "id": "TXQbaXv8J3re"
      },
      "outputs": [],
      "source": [
        "class Generator(nn.Module):\n",
        "    def __init__(self, latent_dim, img_shape, class_num):\n",
        "        super(Generator, self).__init__()\n",
        "\n",
        "        self.label_embedding = nn.Embedding(class_num, class_num)\n",
        "\n",
        "        self.model = nn.Sequential(\n",
        "            nn.Linear(latent_dim + class_num, 128),\n",
        "            nn.LeakyReLU(0.2),\n",
        "            nn.BatchNorm1d(128, momentum=0.8),\n",
        "            nn.Linear(128, 256),\n",
        "            nn.LeakyReLU(0.2),\n",
        "            nn.BatchNorm1d(256, momentum=0.8),\n",
        "            nn.Linear(256, 512),\n",
        "            nn.LeakyReLU(0.2),\n",
        "            nn.BatchNorm1d(512, momentum=0.8),\n",
        "            nn.Linear(512, int(np.prod(img_shape))),\n",
        "            nn.Tanh()\n",
        "        )\n",
        "        self.img_shape = img_shape\n",
        "\n",
        "    def forward(self, noise, labels):\n",
        "        input = torch.cat((self.label_embedding(labels), noise), -1)\n",
        "        img = self.model(input)\n",
        "        img = img.view(img.size(0), *self.img_shape)\n",
        "        return img"
      ]
    },
    {
      "cell_type": "code",
      "execution_count": null,
      "metadata": {
        "id": "EutM0r8bKFJN"
      },
      "outputs": [],
      "source": [
        "class Discriminator(nn.Module):\n",
        "    def __init__(self, img_shape, class_num):\n",
        "        super(Discriminator, self).__init__()\n",
        "\n",
        "        self.label_embedding = nn.Embedding(class_num, class_num)\n",
        "\n",
        "        self.model = nn.Sequential(\n",
        "            nn.Linear(int(np.prod(img_shape)) + class_num, 512),\n",
        "            nn.LeakyReLU(0.2),\n",
        "            nn.Linear(512, 256),\n",
        "            nn.LeakyReLU(0.2),\n",
        "            nn.Dropout(0.4),\n",
        "            nn.Linear(256, 128),\n",
        "            nn.LeakyReLU(0.2),\n",
        "            nn.Dropout(0.4),\n",
        "            nn.Linear(128, 1),\n",
        "            nn.Sigmoid()\n",
        "        )\n",
        "\n",
        "    def forward(self, img, labels):\n",
        "        input = torch.cat((img.view(img.size(0), -1), self.label_embedding(labels)), -1)\n",
        "        out = self.model(input)\n",
        "        return out\n"
      ]
    },
    {
      "cell_type": "code",
      "execution_count": null,
      "metadata": {
        "id": "Bc5RUljiJaI2"
      },
      "outputs": [],
      "source": [
        "generator = Generator(latent_dim=100, img_shape=img_shape, class_num=class_num).to(device)"
      ]
    },
    {
      "cell_type": "code",
      "execution_count": null,
      "metadata": {
        "id": "PiAhyknIJxe9"
      },
      "outputs": [],
      "source": [
        "discriminator = Discriminator(img_shape=img_shape, class_num=class_num).to(device)"
      ]
    },
    {
      "cell_type": "code",
      "execution_count": null,
      "metadata": {
        "id": "XDDiZGC6KLm9"
      },
      "outputs": [],
      "source": [
        "optimizer_generator = Adam(generator.parameters(), lr=0.0002)"
      ]
    },
    {
      "cell_type": "code",
      "execution_count": null,
      "metadata": {
        "id": "LDsslBLTKW-l"
      },
      "outputs": [],
      "source": [
        "optimizer_discriminator = Adam(discriminator.parameters(), lr=0.0002)"
      ]
    },
    {
      "cell_type": "code",
      "execution_count": null,
      "metadata": {
        "id": "hMCsCHjVKd71"
      },
      "outputs": [],
      "source": [
        "criterion = nn.BCELoss()"
      ]
    },
    {
      "cell_type": "code",
      "execution_count": null,
      "metadata": {
        "id": "FPH0GcuCOfXs",
        "collapsed": true
      },
      "outputs": [],
      "source": [
        "train(\n",
        "    generator=generator,\n",
        "    discriminator=discriminator,\n",
        "    data_loader=train_loader,\n",
        "    optimizer_generator=optimizer_generator,\n",
        "    optimizer_discriminator=optimizer_discriminator,\n",
        "    criterion=criterion,\n",
        "    device=device,\n",
        "    latent_dim=100,\n",
        "    epochs=200\n",
        ")"
      ]
    },
    {
      "cell_type": "code",
      "execution_count": null,
      "metadata": {
        "colab": {
          "base_uri": "https://localhost:8080/",
          "height": 183
        },
        "id": "-anNKyCwe2YM",
        "outputId": "7bf11a2d-2880-47a8-eee8-c000df2a7c43"
      },
      "outputs": [
        {
          "output_type": "display_data",
          "data": {
            "text/plain": [
              "<Figure size 1500x200 with 10 Axes>"
            ],
            "image/png": "[encoded data removed]"
          },
          "metadata": {}
        }
      ],
      "source": [
        "visualize_digits(generator=generator, latent_dim=100, device=device)"
      ]
    },
    {
      "cell_type": "markdown",
      "metadata": {
        "id": "2kVOzthZmhvd"
      },
      "source": [
        "## Eval"
      ]
    },
    {
      "cell_type": "code",
      "execution_count": null,
      "metadata": {
        "colab": {
          "base_uri": "https://localhost:8080/"
        },
        "id": "lZbeBGgDoAlj",
        "outputId": "6f93c00e-7c5b-47e5-f6af-e3d0f0e1723c"
      },
      "outputs": [
        {
          "output_type": "stream",
          "name": "stdout",
          "text": [
            "Accuracy: 0.971\n"
          ]
        }
      ],
      "source": [
        "eval(\n",
        "    generator=generator,\n",
        "    classifier=classifier,\n",
        "    latent_dim=100,\n",
        "    num_classes=10,\n",
        "    num_images=100,\n",
        "    device=device\n",
        ")"
      ]
    },
    {
      "cell_type": "markdown",
      "metadata": {
        "id": "8oLjXIMDWasn"
      },
      "source": [
        "# DCGAN"
      ]
    },
    {
      "cell_type": "code",
      "execution_count": null,
      "metadata": {
        "id": "VwXF2gWbWcoe"
      },
      "outputs": [],
      "source": [
        "class DCGAN_Generator(nn.Module):\n",
        "\n",
        "  def __init__(self,  latent_dim=100, img_shape=(1, 28, 28), class_num=10):\n",
        "    super(DCGAN_Generator, self).__init__()\n",
        "\n",
        "    self.label_embedding = nn.Embedding(class_num, class_num)\n",
        "\n",
        "    self.model = nn.Sequential(\n",
        "        nn.Linear(latent_dim+class_num, 128 * 7 * 7),\n",
        "        nn.BatchNorm1d(128 * 7 * 7),\n",
        "        nn.ReLU(True),\n",
        "        nn.Unflatten(1, (128, 7, 7)),\n",
        "\n",
        "        nn.ConvTranspose2d(128, 64, 4, 2, 1),\n",
        "        nn.BatchNorm2d(64),\n",
        "        nn.ReLU(True),\n",
        "\n",
        "        nn.ConvTranspose2d(64, 1, 4, 2, 1),\n",
        "        nn.Tanh()\n",
        "    )\n",
        "\n",
        "  def forward(self, noise, labels):\n",
        "    input = torch.cat((noise, self.label_embedding(labels)), dim=1)\n",
        "    out = self.model(input)\n",
        "    return out"
      ]
    },
    {
      "cell_type": "code",
      "execution_count": null,
      "metadata": {
        "id": "NvdvoP896dcZ"
      },
      "outputs": [],
      "source": [
        "class DCGAN_Discriminator(nn.Module):\n",
        "\n",
        "  def __init__(self, img_shape=(1, 28, 28), class_num=10):\n",
        "    super(DCGAN_Discriminator, self).__init__()\n",
        "\n",
        "    self.img_shape = img_shape\n",
        "    self.class_num = class_num\n",
        "\n",
        "    self.label_embedding = nn.Embedding(class_num, class_num)\n",
        "\n",
        "    self.model = nn.Sequential(\n",
        "        nn.Conv2d(2, 64, 4, 2, 1),\n",
        "        nn.LeakyReLU(0.2),\n",
        "\n",
        "        nn.Conv2d(64, 128, 4, 2, 1),\n",
        "        nn.BatchNorm2d(128),\n",
        "        nn.LeakyReLU(0.2),\n",
        "\n",
        "        nn.Flatten(),\n",
        "        nn.Linear(128 * 7 * 7, 1),\n",
        "        nn.Sigmoid()\n",
        "    )\n",
        "\n",
        "  def forward(self, img, labels):\n",
        "    label_embed = self.label_embedding(labels).unsqueeze(2).unsqueeze(3)\n",
        "    label_embed = label_embed.expand(labels.size(0), self.class_num, *self.img_shape[1:])\n",
        "\n",
        "    x = torch.cat((img, label_embed[:, :1, :, :]), dim=1)\n",
        "    out = self.model(x)\n",
        "    return out"
      ]
    },
    {
      "cell_type": "code",
      "execution_count": null,
      "metadata": {
        "id": "4cjQ-4PqDhOX"
      },
      "outputs": [],
      "source": [
        "dcgan_generator = DCGAN_Generator().to(device)"
      ]
    },
    {
      "cell_type": "code",
      "execution_count": null,
      "metadata": {
        "id": "WcAa6pl0Ds_Q"
      },
      "outputs": [],
      "source": [
        "dcgan_discriminator = DCGAN_Discriminator().to(device)"
      ]
    },
    {
      "cell_type": "code",
      "execution_count": null,
      "metadata": {
        "id": "ihu3KQxUDfd-"
      },
      "outputs": [],
      "source": [
        "dcgan_optimizer_generator = Adam(dcgan_generator.parameters(), lr=0.0002)"
      ]
    },
    {
      "cell_type": "code",
      "execution_count": null,
      "metadata": {
        "id": "A_CFnyoRDy3C"
      },
      "outputs": [],
      "source": [
        "dcgan_optimizer_discriminator = Adam(dcgan_discriminator.parameters(), lr=0.0002)"
      ]
    },
    {
      "cell_type": "code",
      "execution_count": null,
      "metadata": {
        "id": "G8hPF2Z1D0sy"
      },
      "outputs": [],
      "source": [
        "criterion = nn.BCELoss()"
      ]
    },
    {
      "cell_type": "code",
      "execution_count": null,
      "metadata": {
        "id": "gwkNzug0D_Ae",
        "collapsed": true
      },
      "outputs": [],
      "source": [
        "train(generator=dcgan_generator,\n",
        "      discriminator=dcgan_discriminator,\n",
        "      data_loader=train_loader,\n",
        "      optimizer_generator=dcgan_optimizer_generator,\n",
        "      optimizer_discriminator=dcgan_optimizer_discriminator,\n",
        "      criterion=criterion,\n",
        "      latent_dim=100,\n",
        "      epochs=50,\n",
        "      device=device)"
      ]
    },
    {
      "cell_type": "code",
      "execution_count": null,
      "metadata": {
        "id": "8iwOZgF5GDK4",
        "colab": {
          "base_uri": "https://localhost:8080/",
          "height": 183
        },
        "outputId": "b33e4f92-4718-4120-d25c-14cab3a41f25"
      },
      "outputs": [
        {
          "output_type": "display_data",
          "data": {
            "text/plain": [
              "<Figure size 1500x200 with 10 Axes>"
            ],
            "image/png": "[encoded data removed]"
          },
          "metadata": {}
        }
      ],
      "source": [
        "visualize_digits(generator=dcgan_generator, latent_dim=100, device=device)"
      ]
    },
    {
      "cell_type": "markdown",
      "metadata": {
        "id": "jv4Czpo-I3cF"
      },
      "source": [
        "## Eval"
      ]
    },
    {
      "cell_type": "code",
      "execution_count": null,
      "metadata": {
        "id": "uANlMMeRI4d_",
        "colab": {
          "base_uri": "https://localhost:8080/"
        },
        "outputId": "55ac4e78-4581-4a4a-dd04-cda876df2790"
      },
      "outputs": [
        {
          "output_type": "stream",
          "name": "stdout",
          "text": [
            "Accuracy: 0.992\n"
          ]
        }
      ],
      "source": [
        "eval(\n",
        "    generator=dcgan_generator,\n",
        "    classifier=classifier,\n",
        "    latent_dim=100,\n",
        "    num_classes=10,\n",
        "    num_images=100,\n",
        "    device=device)"
      ]
    }
  ],
  "metadata": {
    "colab": {
      "provenance": [],
      "gpuType": "T4"
    },
    "kernelspec": {
      "display_name": "Python 3",
      "name": "python3"
    },
    "language_info": {
      "name": "python"
    },
    "accelerator": "GPU"
  },
  "nbformat": 4,
  "nbformat_minor": 0
}